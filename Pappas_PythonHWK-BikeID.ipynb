{
 "cells": [
  {
   "cell_type": "code",
   "execution_count": 1,
   "metadata": {},
   "outputs": [],
   "source": [
    "import pandas as pd\n",
    "import dateutil\n",
    "import numpy as np\n",
    "from datetime import datetime"
   ]
  },
  {
   "cell_type": "code",
   "execution_count": 2,
   "metadata": {},
   "outputs": [],
   "source": [
    "# Load data from csv file\n",
    "data = pd.read_csv('Output/bikes_all2018.csv')"
   ]
  },
  {
   "cell_type": "code",
   "execution_count": 3,
   "metadata": {},
   "outputs": [
    {
     "data": {
      "text/html": [
       "<div>\n",
       "<style scoped>\n",
       "    .dataframe tbody tr th:only-of-type {\n",
       "        vertical-align: middle;\n",
       "    }\n",
       "\n",
       "    .dataframe tbody tr th {\n",
       "        vertical-align: top;\n",
       "    }\n",
       "\n",
       "    .dataframe thead th {\n",
       "        text-align: right;\n",
       "    }\n",
       "</style>\n",
       "<table border=\"1\" class=\"dataframe\">\n",
       "  <thead>\n",
       "    <tr style=\"text-align: right;\">\n",
       "      <th></th>\n",
       "      <th>Unnamed: 0</th>\n",
       "      <th>trip_id</th>\n",
       "      <th>starttime</th>\n",
       "      <th>stoptime</th>\n",
       "      <th>tripduration</th>\n",
       "      <th>birth year</th>\n",
       "      <th>gender</th>\n",
       "      <th>bikeid</th>\n",
       "      <th>usertype</th>\n",
       "      <th>start station id</th>\n",
       "      <th>start station name</th>\n",
       "      <th>start station latitude</th>\n",
       "      <th>start station longitude</th>\n",
       "      <th>end station id</th>\n",
       "      <th>end station name</th>\n",
       "      <th>end station latitude</th>\n",
       "      <th>end station longitude</th>\n",
       "    </tr>\n",
       "  </thead>\n",
       "  <tbody>\n",
       "    <tr>\n",
       "      <th>0</th>\n",
       "      <td>0</td>\n",
       "      <td>1</td>\n",
       "      <td>2018-01-01 02:06:17.541</td>\n",
       "      <td>2018-01-01 02:21:50.027</td>\n",
       "      <td>932</td>\n",
       "      <td>1992</td>\n",
       "      <td>1</td>\n",
       "      <td>31929</td>\n",
       "      <td>Subscriber</td>\n",
       "      <td>3183</td>\n",
       "      <td>Exchange Place</td>\n",
       "      <td>40.716247</td>\n",
       "      <td>-74.033459</td>\n",
       "      <td>3199</td>\n",
       "      <td>Newport Pkwy</td>\n",
       "      <td>40.728745</td>\n",
       "      <td>-74.032108</td>\n",
       "    </tr>\n",
       "    <tr>\n",
       "      <th>1</th>\n",
       "      <td>1</td>\n",
       "      <td>2</td>\n",
       "      <td>2018-01-01 12:06:18.039</td>\n",
       "      <td>2018-01-01 12:15:28.443</td>\n",
       "      <td>550</td>\n",
       "      <td>1969</td>\n",
       "      <td>2</td>\n",
       "      <td>31845</td>\n",
       "      <td>Subscriber</td>\n",
       "      <td>3183</td>\n",
       "      <td>Exchange Place</td>\n",
       "      <td>40.716247</td>\n",
       "      <td>-74.033459</td>\n",
       "      <td>3199</td>\n",
       "      <td>Newport Pkwy</td>\n",
       "      <td>40.728745</td>\n",
       "      <td>-74.032108</td>\n",
       "    </tr>\n",
       "    <tr>\n",
       "      <th>2</th>\n",
       "      <td>2</td>\n",
       "      <td>3</td>\n",
       "      <td>2018-01-01 12:06:56.978</td>\n",
       "      <td>2018-01-01 12:15:27.810</td>\n",
       "      <td>510</td>\n",
       "      <td>1946</td>\n",
       "      <td>1</td>\n",
       "      <td>31708</td>\n",
       "      <td>Subscriber</td>\n",
       "      <td>3183</td>\n",
       "      <td>Exchange Place</td>\n",
       "      <td>40.716247</td>\n",
       "      <td>-74.033459</td>\n",
       "      <td>3199</td>\n",
       "      <td>Newport Pkwy</td>\n",
       "      <td>40.728745</td>\n",
       "      <td>-74.032108</td>\n",
       "    </tr>\n",
       "    <tr>\n",
       "      <th>3</th>\n",
       "      <td>3</td>\n",
       "      <td>4</td>\n",
       "      <td>2018-01-01 14:53:10.186</td>\n",
       "      <td>2018-01-01 14:59:05.096</td>\n",
       "      <td>354</td>\n",
       "      <td>1994</td>\n",
       "      <td>1</td>\n",
       "      <td>31697</td>\n",
       "      <td>Subscriber</td>\n",
       "      <td>3183</td>\n",
       "      <td>Exchange Place</td>\n",
       "      <td>40.716247</td>\n",
       "      <td>-74.033459</td>\n",
       "      <td>3267</td>\n",
       "      <td>Morris Canal</td>\n",
       "      <td>40.712419</td>\n",
       "      <td>-74.038526</td>\n",
       "    </tr>\n",
       "    <tr>\n",
       "      <th>4</th>\n",
       "      <td>4</td>\n",
       "      <td>5</td>\n",
       "      <td>2018-01-01 17:34:30.192</td>\n",
       "      <td>2018-01-01 17:38:40.984</td>\n",
       "      <td>250</td>\n",
       "      <td>1991</td>\n",
       "      <td>1</td>\n",
       "      <td>31861</td>\n",
       "      <td>Subscriber</td>\n",
       "      <td>3183</td>\n",
       "      <td>Exchange Place</td>\n",
       "      <td>40.716247</td>\n",
       "      <td>-74.033459</td>\n",
       "      <td>3639</td>\n",
       "      <td>Harborside</td>\n",
       "      <td>40.719252</td>\n",
       "      <td>-74.034234</td>\n",
       "    </tr>\n",
       "  </tbody>\n",
       "</table>\n",
       "</div>"
      ],
      "text/plain": [
       "   Unnamed: 0  trip_id                starttime                 stoptime  \\\n",
       "0           0        1  2018-01-01 02:06:17.541  2018-01-01 02:21:50.027   \n",
       "1           1        2  2018-01-01 12:06:18.039  2018-01-01 12:15:28.443   \n",
       "2           2        3  2018-01-01 12:06:56.978  2018-01-01 12:15:27.810   \n",
       "3           3        4  2018-01-01 14:53:10.186  2018-01-01 14:59:05.096   \n",
       "4           4        5  2018-01-01 17:34:30.192  2018-01-01 17:38:40.984   \n",
       "\n",
       "   tripduration  birth year  gender  bikeid    usertype  start station id  \\\n",
       "0           932        1992       1   31929  Subscriber              3183   \n",
       "1           550        1969       2   31845  Subscriber              3183   \n",
       "2           510        1946       1   31708  Subscriber              3183   \n",
       "3           354        1994       1   31697  Subscriber              3183   \n",
       "4           250        1991       1   31861  Subscriber              3183   \n",
       "\n",
       "  start station name  start station latitude  start station longitude  \\\n",
       "0     Exchange Place               40.716247               -74.033459   \n",
       "1     Exchange Place               40.716247               -74.033459   \n",
       "2     Exchange Place               40.716247               -74.033459   \n",
       "3     Exchange Place               40.716247               -74.033459   \n",
       "4     Exchange Place               40.716247               -74.033459   \n",
       "\n",
       "   end station id end station name  end station latitude  \\\n",
       "0            3199     Newport Pkwy             40.728745   \n",
       "1            3199     Newport Pkwy             40.728745   \n",
       "2            3199     Newport Pkwy             40.728745   \n",
       "3            3267     Morris Canal             40.712419   \n",
       "4            3639       Harborside             40.719252   \n",
       "\n",
       "   end station longitude  \n",
       "0             -74.032108  \n",
       "1             -74.032108  \n",
       "2             -74.032108  \n",
       "3             -74.038526  \n",
       "4             -74.034234  "
      ]
     },
     "execution_count": 3,
     "metadata": {},
     "output_type": "execute_result"
    }
   ],
   "source": [
    "data.head()"
   ]
  },
  {
   "cell_type": "code",
   "execution_count": 4,
   "metadata": {},
   "outputs": [
    {
     "data": {
      "text/plain": [
       "Unnamed: 0                   int64\n",
       "trip_id                      int64\n",
       "starttime                   object\n",
       "stoptime                    object\n",
       "tripduration                 int64\n",
       "birth year                   int64\n",
       "gender                       int64\n",
       "bikeid                       int64\n",
       "usertype                    object\n",
       "start station id             int64\n",
       "start station name          object\n",
       "start station latitude     float64\n",
       "start station longitude    float64\n",
       "end station id               int64\n",
       "end station name            object\n",
       "end station latitude       float64\n",
       "end station longitude      float64\n",
       "dtype: object"
      ]
     },
     "execution_count": 4,
     "metadata": {},
     "output_type": "execute_result"
    }
   ],
   "source": [
    "data.dtypes"
   ]
  },
  {
   "cell_type": "code",
   "execution_count": 5,
   "metadata": {},
   "outputs": [
    {
     "data": {
      "text/plain": [
       "Unnamed: 0                          int64\n",
       "trip_id                             int64\n",
       "starttime                  datetime64[ns]\n",
       "stoptime                   datetime64[ns]\n",
       "tripduration                        int64\n",
       "birth year                          int64\n",
       "gender                              int64\n",
       "bikeid                              int64\n",
       "usertype                           object\n",
       "start station id                    int64\n",
       "start station name                 object\n",
       "start station latitude            float64\n",
       "start station longitude           float64\n",
       "end station id                      int64\n",
       "end station name                   object\n",
       "end station latitude              float64\n",
       "end station longitude             float64\n",
       "dtype: object"
      ]
     },
     "execution_count": 5,
     "metadata": {},
     "output_type": "execute_result"
    }
   ],
   "source": [
    "# Convert starttime & stoptime from string to date times\n",
    "data['starttime'] = data['starttime'].apply(dateutil.parser.parse, dayfirst=False)\n",
    "data['stoptime'] = data['stoptime'].apply(dateutil.parser.parse, dayfirst=False)\n",
    "data.dtypes"
   ]
  },
  {
   "cell_type": "code",
   "execution_count": 6,
   "metadata": {},
   "outputs": [
    {
     "data": {
      "text/plain": [
       "Unnamed: 0                 1061676\n",
       "trip_id                    1061676\n",
       "starttime                  1061676\n",
       "stoptime                   1061676\n",
       "tripduration               1061676\n",
       "birth year                 1061676\n",
       "gender                     1061676\n",
       "bikeid                     1061676\n",
       "usertype                   1061676\n",
       "start station id           1061676\n",
       "start station name         1061676\n",
       "start station latitude     1061676\n",
       "start station longitude    1061676\n",
       "end station id             1061676\n",
       "end station name           1061676\n",
       "end station latitude       1061676\n",
       "end station longitude      1061676\n",
       "dtype: int64"
      ]
     },
     "execution_count": 6,
     "metadata": {},
     "output_type": "execute_result"
    }
   ],
   "source": [
    "data.count()"
   ]
  },
  {
   "cell_type": "code",
   "execution_count": 7,
   "metadata": {},
   "outputs": [],
   "source": [
    "bikeid_df = data.drop_duplicates(subset=\"bikeid\",keep='first')"
   ]
  },
  {
   "cell_type": "code",
   "execution_count": 8,
   "metadata": {},
   "outputs": [
    {
     "data": {
      "text/plain": [
       "Unnamed: 0                 903\n",
       "trip_id                    903\n",
       "starttime                  903\n",
       "stoptime                   903\n",
       "tripduration               903\n",
       "birth year                 903\n",
       "gender                     903\n",
       "bikeid                     903\n",
       "usertype                   903\n",
       "start station id           903\n",
       "start station name         903\n",
       "start station latitude     903\n",
       "start station longitude    903\n",
       "end station id             903\n",
       "end station name           903\n",
       "end station latitude       903\n",
       "end station longitude      903\n",
       "dtype: int64"
      ]
     },
     "execution_count": 8,
     "metadata": {},
     "output_type": "execute_result"
    }
   ],
   "source": [
    "bikeid_df.count()"
   ]
  },
  {
   "cell_type": "code",
   "execution_count": 9,
   "metadata": {},
   "outputs": [],
   "source": [
    "new_bikeid_df = bikeid_df[['bikeid']].copy()"
   ]
  },
  {
   "cell_type": "code",
   "execution_count": 10,
   "metadata": {},
   "outputs": [
    {
     "data": {
      "text/html": [
       "<div>\n",
       "<style scoped>\n",
       "    .dataframe tbody tr th:only-of-type {\n",
       "        vertical-align: middle;\n",
       "    }\n",
       "\n",
       "    .dataframe tbody tr th {\n",
       "        vertical-align: top;\n",
       "    }\n",
       "\n",
       "    .dataframe thead th {\n",
       "        text-align: right;\n",
       "    }\n",
       "</style>\n",
       "<table border=\"1\" class=\"dataframe\">\n",
       "  <thead>\n",
       "    <tr style=\"text-align: right;\">\n",
       "      <th></th>\n",
       "      <th>bikeid</th>\n",
       "    </tr>\n",
       "  </thead>\n",
       "  <tbody>\n",
       "    <tr>\n",
       "      <th>0</th>\n",
       "      <td>31929</td>\n",
       "    </tr>\n",
       "    <tr>\n",
       "      <th>1</th>\n",
       "      <td>31845</td>\n",
       "    </tr>\n",
       "    <tr>\n",
       "      <th>2</th>\n",
       "      <td>31708</td>\n",
       "    </tr>\n",
       "    <tr>\n",
       "      <th>3</th>\n",
       "      <td>31697</td>\n",
       "    </tr>\n",
       "    <tr>\n",
       "      <th>4</th>\n",
       "      <td>31861</td>\n",
       "    </tr>\n",
       "  </tbody>\n",
       "</table>\n",
       "</div>"
      ],
      "text/plain": [
       "   bikeid\n",
       "0   31929\n",
       "1   31845\n",
       "2   31708\n",
       "3   31697\n",
       "4   31861"
      ]
     },
     "execution_count": 10,
     "metadata": {},
     "output_type": "execute_result"
    }
   ],
   "source": [
    "new_bikeid_df.head()"
   ]
  },
  {
   "cell_type": "code",
   "execution_count": 11,
   "metadata": {},
   "outputs": [],
   "source": [
    "new_bikeid_df.to_csv('Output/bike_id.csv', index=True, header=True)"
   ]
  },
  {
   "cell_type": "code",
   "execution_count": 12,
   "metadata": {},
   "outputs": [
    {
     "data": {
      "text/plain": [
       "True"
      ]
     },
     "execution_count": 12,
     "metadata": {},
     "output_type": "execute_result"
    }
   ],
   "source": [
    "new_bikeid_df['bikeid'].is_unique"
   ]
  },
  {
   "cell_type": "code",
   "execution_count": null,
   "metadata": {},
   "outputs": [],
   "source": []
  }
 ],
 "metadata": {
  "kernelspec": {
   "display_name": "Python 3",
   "language": "python",
   "name": "python3"
  },
  "language_info": {
   "codemirror_mode": {
    "name": "ipython",
    "version": 3
   },
   "file_extension": ".py",
   "mimetype": "text/x-python",
   "name": "python",
   "nbconvert_exporter": "python",
   "pygments_lexer": "ipython3",
   "version": "3.6.5"
  }
 },
 "nbformat": 4,
 "nbformat_minor": 2
}
